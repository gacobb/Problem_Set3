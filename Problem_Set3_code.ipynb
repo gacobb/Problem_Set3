{
 "cells": [
  {
   "cell_type": "markdown",
   "metadata": {},
   "source": [
    "# Problem Set 3"
   ]
  },
  {
   "cell_type": "markdown",
   "metadata": {},
   "source": [
    "### Problem #1 (4 pts)"
   ]
  },
  {
   "cell_type": "markdown",
   "metadata": {},
   "source": [
    "Write a script (or Jupyter Notebook code block) that opens the file, uses a for loop to read through the file line by line and calculates the highest water level and the date and time that was observed."
   ]
  },
  {
   "cell_type": "code",
   "execution_count": 1,
   "metadata": {},
   "outputs": [
    {
     "name": "stdout",
     "output_type": "stream",
     "text": [
      "Highest Water Level: 6.647\n",
      "Date and Time of Highest Water Level: 2018-10-10 18:06\n"
     ]
    }
   ],
   "source": [
    "fhand = open('CO-OPS__8729108__wl.csv') #opens file\n",
    "HighestWL = None\n",
    "for line in fhand: #reads file line by line\n",
    "    line = line.rstrip() #strips new line from readout\n",
    "    if line.startswith('Date Time'): #skips header\n",
    "        continue\n",
    "    else:\n",
    "        try:\n",
    "            WL = float(line[17:22]) #defines water level for that line, aka data point\n",
    "        except:\n",
    "            continue\n",
    "        if HighestWL is None or WL>=HighestWL: #compares water level values in pairwise fashion\n",
    "            HighestWL=WL\n",
    "        else:\n",
    "            continue\n",
    "print('Highest Water Level:', HighestWL) #prints highest water level value\n",
    "\n",
    "fhand = open('CO-OPS__8729108__wl.csv')\n",
    "for line in fhand:\n",
    "    try:\n",
    "        WL = float(line[17:22]) #defines water level for that line, aka data point\n",
    "    except:\n",
    "        continue\n",
    "    if WL == HighestWL: #Identifies if water level for thatline matches highest water level value\n",
    "        print('Date and Time of Highest Water Level:', line[0:16])"
   ]
  },
  {
   "cell_type": "markdown",
   "metadata": {},
   "source": [
    "### Problem #2 (4 pts)"
   ]
  },
  {
   "cell_type": "markdown",
   "metadata": {},
   "source": [
    "Write a script (or Jupyter Notebook code block) that reads the file into a Pandas dataframe and calculates the highest water level and the date and time that was observed."
   ]
  },
  {
   "cell_type": "code",
   "execution_count": 197,
   "metadata": {},
   "outputs": [
    {
     "name": "stdout",
     "output_type": "stream",
     "text": [
      "Date_Time      2018-10-10 18:06\n",
      "Water_Level               6.647\n",
      "Name: 421, dtype: object\n"
     ]
    }
   ],
   "source": [
    "import pandas as pd\n",
    "\n",
    "df = pd.read_csv('CO-OPS__8729108__wl.csv') #opens and reads file\n",
    "df.drop([' Sigma', ' O', ' F', ' R', ' L', ' Quality '], axis=1, inplace = True) #deleting unnecessary columns\n",
    "df.rename(columns = {'Date Time':'Date_Time', ' Water Level':'Water_Level'}, inplace = True) #Removing spaces from column names\n",
    "sorted_df = df.sort_values('Water_Level', ascending = False) #sorting column by water level values\n",
    "print(sorted_df.iloc[0]) #printing highest value"
   ]
  },
  {
   "cell_type": "markdown",
   "metadata": {},
   "source": [
    "### Problem #3 (4 pts)"
   ]
  },
  {
   "cell_type": "markdown",
   "metadata": {},
   "source": [
    "Write a script (or Jupyter Notebook code block) that calculates the fastest rise in water level per 6-minute period between measurements and reports the data and time that was observed and the change in water level during that period. You can use line by line or dataframe for this."
   ]
  },
  {
   "cell_type": "code",
   "execution_count": 196,
   "metadata": {},
   "outputs": [
    {
     "name": "stdout",
     "output_type": "stream",
     "text": [
      "Largest rise in water level: 0.6399999999999997\n",
      "Date_Time       2018-10-10 17:42\n",
      "Water_Level                5.591\n",
      "Precip_rates                0.64\n",
      "Name: 417, dtype: object\n",
      "            Date_Time  Water_Level  Precip_rates\n",
      "415  2018-10-10 17:30        4.672         0.302\n",
      "416  2018-10-10 17:36        4.951         0.279\n",
      "417  2018-10-10 17:42        5.591         0.640\n",
      "418  2018-10-10 17:48        5.958         0.367\n",
      "419  2018-10-10 17:54        6.404         0.446\n",
      "420  2018-10-10 18:00        6.575         0.171\n"
     ]
    }
   ],
   "source": [
    "import pandas as pd\n",
    "\n",
    "df = pd.read_csv('CO-OPS__8729108__wl.csv') #opens and reads file\n",
    "df.drop([' Sigma', ' O', ' F', ' R', ' L', ' Quality '], axis=1, inplace = True) #deleting unnecessary columns\n",
    "df.rename(columns = {'Date Time':'Date_Time', ' Water Level':'Water_Level'}, inplace = True) #Removing spaces from column names\n",
    "val_list = [] #creates empty list for values to input into\n",
    "\n",
    "for i in df.index-1:\n",
    "    n=i+1\n",
    "    try:\n",
    "        val = abs(df.loc[n, 'Water_Level']-df.loc[i, 'Water_Level']) #measures difference in water level between two time points, aka precipitation rate\n",
    "    except:\n",
    "        val = 0 #creates placeholder for empty values\n",
    "    val_list.append(val)\n",
    "\n",
    "largest_val = None\n",
    "for value in val_list:\n",
    "    if largest_val is None or value> largest_val: #compares precipitation rate values in pairwise fashion\n",
    "        largest_val=value\n",
    "print('Largest rise in water level:', largest_val)\n",
    "\n",
    "data2 = {'Precip_rates':val_list}\n",
    "df2 = pd.DataFrame(data2) #creates dataframe with precipitation values\n",
    "\n",
    "df['Precip_rates']=df2.Precip_rates #inserts precipitation rate dataframe into original dataframe\n",
    "sorted_df = df.sort_values('Precip_rates', ascending = False) #sorting column by precipitation rate values\n",
    "print(sorted_df.iloc[0]) #printing highest value\n",
    "print(df.loc[415:420]) #print data values around highest value"
   ]
  },
  {
   "cell_type": "markdown",
   "metadata": {},
   "source": [
    "### Problem #4 (4 pts)"
   ]
  },
  {
   "cell_type": "markdown",
   "metadata": {},
   "source": [
    "Grad students only (undergrads get 4 pts automatically).\n",
    "\n",
    "Write a script (or Jupyter Notebook code block) that plots a line graph of water level over time using matplotlib."
   ]
  },
  {
   "cell_type": "code",
   "execution_count": 200,
   "metadata": {},
   "outputs": [
    {
     "data": {
      "text/plain": [
       "<Figure size 432x288 with 0 Axes>"
      ]
     },
     "metadata": {},
     "output_type": "display_data"
    },
    {
     "data": {
      "image/png": "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\n",
      "text/plain": [
       "<Figure size 432x288 with 1 Axes>"
      ]
     },
     "metadata": {},
     "output_type": "display_data"
    }
   ],
   "source": [
    "%matplotlib inline\n",
    "\n",
    "import matplotlib.pyplot as plt\n",
    "import pandas as pd\n",
    "\n",
    "df = pd.read_csv('CO-OPS__8729108__wl.csv') #opens and reads file\n",
    "df.drop([' Sigma', ' O', ' F', ' R', ' L', ' Quality '], axis=1, inplace = True) #deleting unnecessary columns\n",
    "df.rename(columns = {'Date Time':'Date & Time', ' Water Level':'Water Level'}, inplace = True) #Removing spaces from column names\n",
    "plt.figure() \n",
    "df.plot(x = 'Date & Time', y = 'Water Level') #plotting water level against date and time\n",
    "plt.xlabel('Date & Time') #labeling axes\n",
    "plt.ylabel('Water Level') \n"
   ]
  },
  {
   "cell_type": "markdown",
   "metadata": {},
   "source": [
    "### Peer Review (4 pts)"
   ]
  },
  {
   "cell_type": "markdown",
   "metadata": {},
   "source": [
    "Each person will review one other persons answers and leave comments. \n",
    "\n",
    "If the code works for the reviewer and produces the desired result, they will say so.\n",
    "\n",
    "If it doesn't work they will try to figure out why and suggest a fix.\n",
    "\n",
    "If the reviewer can understand the code, its logic and what you are doing they will say so.\n",
    "\n",
    "If the reviewer can't understand what you were doing, they will suggest where things are confusing and how to improve."
   ]
  },
 "metadata": {
  "kernelspec": {
   "display_name": "Python 3",
   "language": "python",
   "name": "python3"
  },
  "language_info": {
   "codemirror_mode": {
    "name": "ipython",
    "version": 3
   },
   "file_extension": ".py",
   "mimetype": "text/x-python",
   "name": "python",
   "nbconvert_exporter": "python",
   "pygments_lexer": "ipython3",
   "version": "3.6.5"
  }
 },
 "nbformat": 4,
 "nbformat_minor": 2
}
